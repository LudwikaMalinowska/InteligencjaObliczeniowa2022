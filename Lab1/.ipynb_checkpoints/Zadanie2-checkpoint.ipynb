{
 "cells": [
  {
   "cell_type": "code",
   "execution_count": null,
   "id": "1c353e0a",
   "metadata": {},
   "outputs": [],
   "source": [
    "import math\n",
    "import random\n",
    "import statistics"
   ]
  },
  {
   "cell_type": "markdown",
   "id": "d80f5dd0",
   "metadata": {},
   "source": [
    "Importujemy potrzebne biblioteki"
   ]
  },
  {
   "cell_type": "code",
   "execution_count": null,
   "id": "b9992839",
   "metadata": {},
   "outputs": [],
   "source": [
    "v1 = [3, 8, 9, 10, 12]\n",
    "v2 = [8, 7, 7, 5, 6]"
   ]
  },
  {
   "cell_type": "markdown",
   "id": "7fca2427",
   "metadata": {},
   "source": [
    "Definiujemy wektory"
   ]
  },
  {
   "cell_type": "code",
   "execution_count": null,
   "id": "f036f4d8",
   "metadata": {},
   "outputs": [],
   "source": [
    "def vector_sum(v1, v2):\n",
    "    v3 = []\n",
    "    for i in range(len(v1)):\n",
    "        v3.append(v1[i] + v2[i])\n",
    "\n",
    "    return v3\n",
    "\n",
    "\n",
    "vector_sum(v1, v2)"
   ]
  },
  {
   "cell_type": "markdown",
   "id": "8cd86fb6",
   "metadata": {},
   "source": [
    "Suma wektorów"
   ]
  },
  {
   "cell_type": "code",
   "execution_count": null,
   "id": "bf64e6e2",
   "metadata": {},
   "outputs": [],
   "source": [
    "def vector_multiply(v1, v2):\n",
    "    v3 = []\n",
    "    for i in range(len(v1)):\n",
    "        v3.append(v1[i] * v2[i])\n",
    "\n",
    "    return v3\n",
    "\n",
    "\n",
    "vector_multiply(v1, v2)"
   ]
  },
  {
   "cell_type": "markdown",
   "id": "093f6c8a",
   "metadata": {},
   "source": [
    "Iloczyn wektorów"
   ]
  },
  {
   "cell_type": "code",
   "execution_count": null,
   "id": "80439554",
   "metadata": {},
   "outputs": [],
   "source": [
    "def vector_iloczyn_skalarny(v1, v2):\n",
    "    iloczyn = 0\n",
    "    for i in range(len(v1)):\n",
    "        iloczyn += v1[i] * v2[i]\n",
    "\n",
    "    return iloczyn\n",
    "\n",
    "\n",
    "vector_iloczyn_skalarny(v1, v2)"
   ]
  },
  {
   "cell_type": "markdown",
   "id": "821e7e3b",
   "metadata": {},
   "source": [
    "Iloczyn skalarny wektorów"
   ]
  },
  {
   "cell_type": "code",
   "execution_count": null,
   "id": "d98115ea",
   "metadata": {},
   "outputs": [],
   "source": [
    "def dlugosc_euklidesowa(v):\n",
    "    suma_kwadratow = 0\n",
    "    for i in range(len(v1)):\n",
    "        suma_kwadratow += v[i] ** 2\n",
    "\n",
    "    dlugosc = math.sqrt(suma_kwadratow)\n",
    "    return dlugosc\n",
    "\n",
    "print(\"Długość wektora v1: \", dlugosc_euklidesowa(v1))\n",
    "print(\"Długość wektora v2: \", dlugosc_euklidesowa(v2))"
   ]
  },
  {
   "cell_type": "markdown",
   "id": "678f2485",
   "metadata": {},
   "source": [
    "Długość wektorów v1 i v2"
   ]
  },
  {
   "cell_type": "code",
   "execution_count": null,
   "id": "eb8d841b",
   "metadata": {},
   "outputs": [],
   "source": [
    "def random_50():\n",
    "    v = []\n",
    "    random.seed(50)\n",
    "    for i in range(50):\n",
    "        v.append(random.randint(1, 100))\n",
    "\n",
    "    return v\n",
    "\n",
    "\n",
    "random_vector = random_50()"
   ]
  },
  {
   "cell_type": "markdown",
   "id": "b369faed",
   "metadata": {},
   "source": [
    "Generujemy wektor z 50 losowych liczb z zakresu 1-100"
   ]
  },
  {
   "cell_type": "code",
   "execution_count": null,
   "id": "c7e9861a",
   "metadata": {},
   "outputs": [],
   "source": [
    "def vector_stats(v):\n",
    "    v_mean = sum(v) / len(v)\n",
    "    v_max = max(v)\n",
    "    v_min = min(v)\n",
    "\n",
    "    sum1 = 0\n",
    "    for i in range(len(v)):\n",
    "        sum1 += (v[i] - v_mean) ** 2\n",
    "\n",
    "    v_stdev = math.sqrt(sum1 / len(v))\n",
    "\n",
    "    print(\"Average = \", v_mean)\n",
    "    print(\"Max = \", v_max)\n",
    "    print(\"Min = \", v_min)\n",
    "    print(\"Odchylenie standardowe = \", v_stdev)\n",
    "\n",
    "vector_stats(random_vector)"
   ]
  },
  {
   "cell_type": "markdown",
   "id": "3bddacdb",
   "metadata": {},
   "source": [
    "Obliczamy średnią, min, max i odchylenie stamdardowe wektora."
   ]
  },
  {
   "cell_type": "code",
   "execution_count": null,
   "id": "cafdd104",
   "metadata": {},
   "outputs": [],
   "source": [
    "def normalize(v):\n",
    "    v_max = max(v)\n",
    "    v_min = min(v)\n",
    "    normalized = []\n",
    "    print(\"Old max: \", v_max)\n",
    "\n",
    "    for x in v:\n",
    "        z = (x - v_min) / (v_max - v_min)\n",
    "        normalized.append(z)\n",
    "\n",
    "    print(\"New max: \", max(normalized))\n",
    "    return normalized\n",
    "\n",
    "\n",
    "normalized = normalize(random_vector);"
   ]
  },
  {
   "cell_type": "markdown",
   "id": "5c75656a",
   "metadata": {},
   "source": [
    "Normalizujemy wektor"
   ]
  },
  {
   "cell_type": "code",
   "execution_count": null,
   "id": "5b7c84da",
   "metadata": {},
   "outputs": [],
   "source": [
    "def standarize(v):\n",
    "    v_mean = sum(v) / len(v)\n",
    "    v_stdev = statistics.stdev(v)\n",
    "    standarized = []\n",
    "    print(\"Stara średnia: \", v_mean)\n",
    "    print(\"Stare odchylenie standardowe: \", v_stdev)\n",
    "\n",
    "    for x in v:\n",
    "        z = (x - v_mean) / v_stdev\n",
    "        standarized.append(z)\n",
    "\n",
    "    new_mean = sum(standarized) / len(standarized)\n",
    "    new_stdev = statistics.stdev(standarized)\n",
    "    print(\"Nowa średnia: \", new_mean)\n",
    "    print(\"Nowa odchylenie standardowe: \", new_stdev)\n",
    "\n",
    "    return standarized\n",
    "\n",
    "\n",
    "standarized = standarize(random_vector)"
   ]
  },
  {
   "cell_type": "markdown",
   "id": "334fc9b9",
   "metadata": {},
   "source": [
    "Standarysujemy wektor"
   ]
  },
  {
   "cell_type": "code",
   "execution_count": null,
   "id": "bb9bac5d",
   "metadata": {},
   "outputs": [],
   "source": [
    "def przedzial(x):\n",
    "    if x < 10:\n",
    "        return \"[0, 10)\"\n",
    "    elif x < 20:\n",
    "        return \"[10, 20)\"\n",
    "    elif x < 30:\n",
    "        return \"[20, 30)\"\n",
    "    elif x < 30:\n",
    "        return \"[30, 40)\"\n",
    "    elif x < 50:\n",
    "        return \"[40, 50)\"\n",
    "    elif x < 60:\n",
    "        return \"[50, 60)\"\n",
    "    elif x < 70:\n",
    "        return \"[60, 70)\"\n",
    "    elif x < 80:\n",
    "        return \"[70, 80)\"\n",
    "    elif x < 80:\n",
    "        return \"[80, 90)\"\n",
    "    else:\n",
    "        return \"[90, 100]\""
   ]
  },
  {
   "cell_type": "markdown",
   "id": "c3d6ccdb",
   "metadata": {},
   "source": [
    "Aby dokonać dyskretyzacji wektora, najpierw potrzebujemy funkcji zwracającej przedział liczby w formie napisu. "
   ]
  },
  {
   "cell_type": "code",
   "execution_count": null,
   "id": "94b6797d",
   "metadata": {},
   "outputs": [],
   "source": [
    "def discredit(v):\n",
    "    discredited = []\n",
    "    for x in v:\n",
    "        discredited.append(przedzial(x))\n",
    "\n",
    "    print(\"Nowy wektor po dyskredytacji: \", discredited)\n",
    "    return discredited\n",
    "\n",
    "\n",
    "discredited = discredit(random_vector)"
   ]
  },
  {
   "cell_type": "markdown",
   "id": "c329d2e2",
   "metadata": {},
   "source": [
    "Następnie dyskretyzujemy wektor."
   ]
  }
 ],
 "metadata": {
  "kernelspec": {
   "display_name": "Python 3",
   "language": "python",
   "name": "python3"
  },
  "language_info": {
   "codemirror_mode": {
    "name": "ipython",
    "version": 3
   },
   "file_extension": ".py",
   "mimetype": "text/x-python",
   "name": "python",
   "nbconvert_exporter": "python",
   "pygments_lexer": "ipython3",
   "version": "3.6.8"
  }
 },
 "nbformat": 4,
 "nbformat_minor": 5
}
