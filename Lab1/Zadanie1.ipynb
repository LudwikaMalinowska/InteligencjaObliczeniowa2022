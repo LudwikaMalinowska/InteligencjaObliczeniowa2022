{
 "cells": [
  {
   "cell_type": "code",
   "execution_count": null,
   "id": "8b33fe41",
   "metadata": {},
   "outputs": [],
   "source": [
    "import math"
   ]
  },
  {
   "cell_type": "code",
   "execution_count": null,
   "id": "2c9f6a1e",
   "metadata": {},
   "outputs": [],
   "source": [
    "def prime(n):\n",
    "    n_sqrt = math.sqrt(n)\n",
    "    # print(n, n_sqrt)\n",
    "    for i in range(2, math.ceil(n_sqrt)+1):\n",
    "        # print(\"i = \", i)\n",
    "        if n % i == 0:\n",
    "            # print(\"n%i\", n%i)\n",
    "            return False\n",
    "\n",
    "    return True"
   ]
  },
  {
   "cell_type": "markdown",
   "id": "ff6ee5e7",
   "metadata": {},
   "source": [
    "Definiujemy funkcję prime(n)"
   ]
  },
  {
   "cell_type": "code",
   "execution_count": null,
   "id": "54258c00",
   "metadata": {},
   "outputs": [],
   "source": [
    "prime(3)\n",
    "prime(4)\n",
    "prime(49)\n",
    "prime(13337)"
   ]
  },
  {
   "cell_type": "markdown",
   "id": "bea57b68",
   "metadata": {},
   "source": [
    "Sprawdzamy jej działanie, powinna zwrócić:\n",
    "True\n",
    "False\n",
    "False\n",
    "True"
   ]
  },
  {
   "cell_type": "code",
   "execution_count": null,
   "id": "eec914d0",
   "metadata": {},
   "outputs": [],
   "source": [
    "def select_primes(x):\n",
    "    primes_iterator = filter(prime, x)\n",
    "    primes_list = list(primes_iterator)\n",
    "\n",
    "    return primes_list\n"
   ]
  },
  {
   "cell_type": "markdown",
   "id": "d3ae1f15",
   "metadata": {},
   "source": [
    "Definiujemy funkcję select_primes(x)"
   ]
  },
  {
   "cell_type": "code",
   "execution_count": null,
   "id": "8cf39937",
   "metadata": {},
   "outputs": [],
   "source": [
    "select_primes([3, 6, 11, 25, 19])\n",
    "select_primes([3, 4, 5, 12, 49, 113])"
   ]
  },
  {
   "cell_type": "markdown",
   "id": "7d4091ef",
   "metadata": {},
   "source": [
    "Sprawdzamy jej działanie, powinna zwrócić:\n",
    "[3, 11, 19]\n",
    "[3, 5, 113]"
   ]
  }
 ],
 "metadata": {
  "kernelspec": {
   "display_name": "Python 3",
   "language": "python",
   "name": "python3"
  },
  "language_info": {
   "codemirror_mode": {
    "name": "ipython",
    "version": 3
   },
   "file_extension": ".py",
   "mimetype": "text/x-python",
   "name": "python",
   "nbconvert_exporter": "python",
   "pygments_lexer": "ipython3",
   "version": "3.6.8"
  }
 },
 "nbformat": 4,
 "nbformat_minor": 5
}
