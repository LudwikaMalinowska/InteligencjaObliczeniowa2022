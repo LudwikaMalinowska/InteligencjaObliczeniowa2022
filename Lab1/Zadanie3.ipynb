{
 "cells": [
  {
   "cell_type": "code",
   "execution_count": 1,
   "id": "d806d73f",
   "metadata": {},
   "outputs": [],
   "source": [
    "import pandas as pd\n",
    "import numpy as np\n",
    "from matplotlib import pyplot as plt"
   ]
  },
  {
   "cell_type": "markdown",
   "id": "8adab273",
   "metadata": {},
   "source": [
    "Importujemy potrzebne biblioteki"
   ]
  },
  {
   "cell_type": "code",
   "execution_count": 3,
   "id": "da6292a8",
   "metadata": {},
   "outputs": [
    {
     "data": {
      "text/html": [
       "<div>\n",
       "<style scoped>\n",
       "    .dataframe tbody tr th:only-of-type {\n",
       "        vertical-align: middle;\n",
       "    }\n",
       "\n",
       "    .dataframe tbody tr th {\n",
       "        vertical-align: top;\n",
       "    }\n",
       "\n",
       "    .dataframe thead th {\n",
       "        text-align: right;\n",
       "    }\n",
       "</style>\n",
       "<table border=\"1\" class=\"dataframe\">\n",
       "  <thead>\n",
       "    <tr style=\"text-align: right;\">\n",
       "      <th></th>\n",
       "      <th>Rok</th>\n",
       "      <th>Gdansk</th>\n",
       "      <th>Poznan</th>\n",
       "      <th>Szczecin</th>\n",
       "    </tr>\n",
       "  </thead>\n",
       "  <tbody>\n",
       "    <tr>\n",
       "      <th>0</th>\n",
       "      <td>1900</td>\n",
       "      <td>170</td>\n",
       "      <td>110</td>\n",
       "      <td>210</td>\n",
       "    </tr>\n",
       "    <tr>\n",
       "      <th>1</th>\n",
       "      <td>1925</td>\n",
       "      <td>210</td>\n",
       "      <td>220</td>\n",
       "      <td>254</td>\n",
       "    </tr>\n",
       "    <tr>\n",
       "      <th>2</th>\n",
       "      <td>1939</td>\n",
       "      <td>250</td>\n",
       "      <td>274</td>\n",
       "      <td>287</td>\n",
       "    </tr>\n",
       "    <tr>\n",
       "      <th>3</th>\n",
       "      <td>1946</td>\n",
       "      <td>117</td>\n",
       "      <td>267</td>\n",
       "      <td>72</td>\n",
       "    </tr>\n",
       "    <tr>\n",
       "      <th>4</th>\n",
       "      <td>1950</td>\n",
       "      <td>194</td>\n",
       "      <td>320</td>\n",
       "      <td>178</td>\n",
       "    </tr>\n",
       "    <tr>\n",
       "      <th>5</th>\n",
       "      <td>1960</td>\n",
       "      <td>286</td>\n",
       "      <td>408</td>\n",
       "      <td>269</td>\n",
       "    </tr>\n",
       "    <tr>\n",
       "      <th>6</th>\n",
       "      <td>1970</td>\n",
       "      <td>365</td>\n",
       "      <td>471</td>\n",
       "      <td>338</td>\n",
       "    </tr>\n",
       "    <tr>\n",
       "      <th>7</th>\n",
       "      <td>1980</td>\n",
       "      <td>456</td>\n",
       "      <td>552</td>\n",
       "      <td>388</td>\n",
       "    </tr>\n",
       "    <tr>\n",
       "      <th>8</th>\n",
       "      <td>1990</td>\n",
       "      <td>465</td>\n",
       "      <td>590</td>\n",
       "      <td>413</td>\n",
       "    </tr>\n",
       "    <tr>\n",
       "      <th>9</th>\n",
       "      <td>2000</td>\n",
       "      <td>462</td>\n",
       "      <td>574</td>\n",
       "      <td>416</td>\n",
       "    </tr>\n",
       "  </tbody>\n",
       "</table>\n",
       "</div>"
      ],
      "text/plain": [
       "    Rok  Gdansk  Poznan  Szczecin\n",
       "0  1900     170     110       210\n",
       "1  1925     210     220       254\n",
       "2  1939     250     274       287\n",
       "3  1946     117     267        72\n",
       "4  1950     194     320       178\n",
       "5  1960     286     408       269\n",
       "6  1970     365     471       338\n",
       "7  1980     456     552       388\n",
       "8  1990     465     590       413\n",
       "9  2000     462     574       416"
      ]
     },
     "execution_count": 3,
     "metadata": {},
     "output_type": "execute_result"
    }
   ],
   "source": [
    "miasta = pd.read_csv(\"miasta.csv\")\n",
    "miasta"
   ]
  },
  {
   "cell_type": "markdown",
   "id": "c6e2c7cf",
   "metadata": {},
   "source": [
    "Wczytujemy dane z pliku i wyświetlamy kolejno tabelę miasta"
   ]
  },
  {
   "cell_type": "code",
   "execution_count": 4,
   "id": "92b036eb",
   "metadata": {},
   "outputs": [
    {
     "data": {
      "text/plain": [
       "array([[1900,  170,  110,  210],\n",
       "       [1925,  210,  220,  254],\n",
       "       [1939,  250,  274,  287],\n",
       "       [1946,  117,  267,   72],\n",
       "       [1950,  194,  320,  178],\n",
       "       [1960,  286,  408,  269],\n",
       "       [1970,  365,  471,  338],\n",
       "       [1980,  456,  552,  388],\n",
       "       [1990,  465,  590,  413],\n",
       "       [2000,  462,  574,  416]], dtype=int64)"
      ]
     },
     "execution_count": 4,
     "metadata": {},
     "output_type": "execute_result"
    }
   ],
   "source": [
    "miasta.values"
   ]
  },
  {
   "cell_type": "markdown",
   "id": "4e57ee87",
   "metadata": {},
   "source": [
    " i jej wartości"
   ]
  },
  {
   "cell_type": "code",
   "execution_count": 6,
   "id": "d80f0145",
   "metadata": {},
   "outputs": [
    {
     "data": {
      "text/html": [
       "<div>\n",
       "<style scoped>\n",
       "    .dataframe tbody tr th:only-of-type {\n",
       "        vertical-align: middle;\n",
       "    }\n",
       "\n",
       "    .dataframe tbody tr th {\n",
       "        vertical-align: top;\n",
       "    }\n",
       "\n",
       "    .dataframe thead th {\n",
       "        text-align: right;\n",
       "    }\n",
       "</style>\n",
       "<table border=\"1\" class=\"dataframe\">\n",
       "  <thead>\n",
       "    <tr style=\"text-align: right;\">\n",
       "      <th></th>\n",
       "      <th>Rok</th>\n",
       "      <th>Gdansk</th>\n",
       "      <th>Poznan</th>\n",
       "      <th>Szczecin</th>\n",
       "    </tr>\n",
       "  </thead>\n",
       "  <tbody>\n",
       "    <tr>\n",
       "      <th>0</th>\n",
       "      <td>1900</td>\n",
       "      <td>170</td>\n",
       "      <td>110</td>\n",
       "      <td>210</td>\n",
       "    </tr>\n",
       "    <tr>\n",
       "      <th>1</th>\n",
       "      <td>1925</td>\n",
       "      <td>210</td>\n",
       "      <td>220</td>\n",
       "      <td>254</td>\n",
       "    </tr>\n",
       "    <tr>\n",
       "      <th>2</th>\n",
       "      <td>1939</td>\n",
       "      <td>250</td>\n",
       "      <td>274</td>\n",
       "      <td>287</td>\n",
       "    </tr>\n",
       "    <tr>\n",
       "      <th>3</th>\n",
       "      <td>1946</td>\n",
       "      <td>117</td>\n",
       "      <td>267</td>\n",
       "      <td>72</td>\n",
       "    </tr>\n",
       "    <tr>\n",
       "      <th>4</th>\n",
       "      <td>1950</td>\n",
       "      <td>194</td>\n",
       "      <td>320</td>\n",
       "      <td>178</td>\n",
       "    </tr>\n",
       "    <tr>\n",
       "      <th>5</th>\n",
       "      <td>1960</td>\n",
       "      <td>286</td>\n",
       "      <td>408</td>\n",
       "      <td>269</td>\n",
       "    </tr>\n",
       "    <tr>\n",
       "      <th>6</th>\n",
       "      <td>1970</td>\n",
       "      <td>365</td>\n",
       "      <td>471</td>\n",
       "      <td>338</td>\n",
       "    </tr>\n",
       "    <tr>\n",
       "      <th>7</th>\n",
       "      <td>1980</td>\n",
       "      <td>456</td>\n",
       "      <td>552</td>\n",
       "      <td>388</td>\n",
       "    </tr>\n",
       "    <tr>\n",
       "      <th>8</th>\n",
       "      <td>1990</td>\n",
       "      <td>465</td>\n",
       "      <td>590</td>\n",
       "      <td>413</td>\n",
       "    </tr>\n",
       "    <tr>\n",
       "      <th>9</th>\n",
       "      <td>2000</td>\n",
       "      <td>462</td>\n",
       "      <td>574</td>\n",
       "      <td>416</td>\n",
       "    </tr>\n",
       "    <tr>\n",
       "      <th>10</th>\n",
       "      <td>2010</td>\n",
       "      <td>460</td>\n",
       "      <td>555</td>\n",
       "      <td>405</td>\n",
       "    </tr>\n",
       "  </tbody>\n",
       "</table>\n",
       "</div>"
      ],
      "text/plain": [
       "     Rok  Gdansk  Poznan  Szczecin\n",
       "0   1900     170     110       210\n",
       "1   1925     210     220       254\n",
       "2   1939     250     274       287\n",
       "3   1946     117     267        72\n",
       "4   1950     194     320       178\n",
       "5   1960     286     408       269\n",
       "6   1970     365     471       338\n",
       "7   1980     456     552       388\n",
       "8   1990     465     590       413\n",
       "9   2000     462     574       416\n",
       "10  2010     460     555       405"
      ]
     },
     "execution_count": 6,
     "metadata": {},
     "output_type": "execute_result"
    }
   ],
   "source": [
    "nData = {\"Rok\": 2010, \"Gdansk\": 460, \"Poznan\": 555, \"Szczecin\": 405}\n",
    "miasta = miasta.append(nData, ignore_index=True)\n",
    "miasta"
   ]
  },
  {
   "cell_type": "markdown",
   "id": "9f1465cc",
   "metadata": {},
   "source": [
    "Dodajemy do tabeli nowy wiersz."
   ]
  },
  {
   "cell_type": "code",
   "execution_count": 8,
   "id": "9f783221",
   "metadata": {},
   "outputs": [
    {
     "data": {
      "image/png": "[encoded data removed]",
      "text/plain": [
       "<Figure size 432x288 with 1 Axes>"
      ]
     },
     "metadata": {
      "needs_background": "light"
     },
     "output_type": "display_data"
    }
   ],
   "source": [
    "x = miasta.get(\"Rok\")\n",
    "y = miasta.get(\"Gdansk\")\n",
    "plt.plot(x, y, '-or')\n",
    "plt.xticks(np.arange(min(x), max(x)+1, 10))\n",
    "plt.xlabel(\"Lata\")\n",
    "plt.ylabel(\"Liczba ludności [w tys.]\")\n",
    "plt.title(\"Ludność w miastach Polski\")\n",
    "plt.show()"
   ]
  },
  {
   "cell_type": "code",
   "execution_count": null,
   "id": "d45a7c7c",
   "metadata": {},
   "outputs": [],
   "source": [
    "I tworzymy wykres na podstawie danych z tabeli."
   ]
  }
 ],
 "metadata": {
  "kernelspec": {
   "display_name": "Python 3",
   "language": "python",
   "name": "python3"
  },
  "language_info": {
   "codemirror_mode": {
    "name": "ipython",
    "version": 3
   },
   "file_extension": ".py",
   "mimetype": "text/x-python",
   "name": "python",
   "nbconvert_exporter": "python",
   "pygments_lexer": "ipython3",
   "version": "3.6.8"
  }
 },
 "nbformat": 4,
 "nbformat_minor": 5
}
