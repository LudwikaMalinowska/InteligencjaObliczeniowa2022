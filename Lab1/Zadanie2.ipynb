{
 "cells": [
  {
   "cell_type": "code",
   "execution_count": 1,
   "id": "ed5313ba",
   "metadata": {},
   "outputs": [],
   "source": [
    "import math\n",
    "import random\n",
    "import statistics"
   ]
  },
  {
   "cell_type": "markdown",
   "id": "74700645",
   "metadata": {},
   "source": [
    "Importujemy potrzebne biblioteki"
   ]
  },
  {
   "cell_type": "code",
   "execution_count": 2,
   "id": "9cd054a9",
   "metadata": {},
   "outputs": [],
   "source": [
    "v1 = [3, 8, 9, 10, 12]\n",
    "v2 = [8, 7, 7, 5, 6]"
   ]
  },
  {
   "cell_type": "markdown",
   "id": "88053b27",
   "metadata": {},
   "source": [
    "Definiujemy wektory"
   ]
  },
  {
   "cell_type": "code",
   "execution_count": 3,
   "id": "821845bc",
   "metadata": {},
   "outputs": [
    {
     "data": {
      "text/plain": [
       "[11, 15, 16, 15, 18]"
      ]
     },
     "execution_count": 3,
     "metadata": {},
     "output_type": "execute_result"
    }
   ],
   "source": [
    "def vector_sum(v1, v2):\n",
    "    v3 = []\n",
    "    for i in range(len(v1)):\n",
    "        v3.append(v1[i] + v2[i])\n",
    "\n",
    "    return v3\n",
    "\n",
    "\n",
    "vector_sum(v1, v2)"
   ]
  },
  {
   "cell_type": "markdown",
   "id": "2afa55a9",
   "metadata": {},
   "source": [
    "Suma wektorów"
   ]
  },
  {
   "cell_type": "code",
   "execution_count": 4,
   "id": "3f68b3d4",
   "metadata": {},
   "outputs": [
    {
     "data": {
      "text/plain": [
       "[24, 56, 63, 50, 72]"
      ]
     },
     "execution_count": 4,
     "metadata": {},
     "output_type": "execute_result"
    }
   ],
   "source": [
    "def vector_multiply(v1, v2):\n",
    "    v3 = []\n",
    "    for i in range(len(v1)):\n",
    "        v3.append(v1[i] * v2[i])\n",
    "\n",
    "    return v3\n",
    "\n",
    "\n",
    "vector_multiply(v1, v2)"
   ]
  },
  {
   "cell_type": "markdown",
   "id": "d7550e0f",
   "metadata": {},
   "source": [
    "Iloczyn wektorów"
   ]
  },
  {
   "cell_type": "code",
   "execution_count": 5,
   "id": "44e83109",
   "metadata": {},
   "outputs": [
    {
     "data": {
      "text/plain": [
       "265"
      ]
     },
     "execution_count": 5,
     "metadata": {},
     "output_type": "execute_result"
    }
   ],
   "source": [
    "def vector_iloczyn_skalarny(v1, v2):\n",
    "    iloczyn = 0\n",
    "    for i in range(len(v1)):\n",
    "        iloczyn += v1[i] * v2[i]\n",
    "\n",
    "    return iloczyn\n",
    "\n",
    "\n",
    "vector_iloczyn_skalarny(v1, v2)"
   ]
  },
  {
   "cell_type": "markdown",
   "id": "49779c9b",
   "metadata": {},
   "source": [
    "Iloczyn skalarny wektorów"
   ]
  },
  {
   "cell_type": "code",
   "execution_count": 6,
   "id": "12a1b78f",
   "metadata": {},
   "outputs": [
    {
     "name": "stdout",
     "output_type": "stream",
     "text": [
      "Długość wektora v1:  19.949937343260004\n",
      "Długość wektora v2:  14.933184523068078\n"
     ]
    }
   ],
   "source": [
    "def dlugosc_euklidesowa(v):\n",
    "    suma_kwadratow = 0\n",
    "    for i in range(len(v1)):\n",
    "        suma_kwadratow += v[i] ** 2\n",
    "\n",
    "    dlugosc = math.sqrt(suma_kwadratow)\n",
    "    return dlugosc\n",
    "\n",
    "print(\"Długość wektora v1: \", dlugosc_euklidesowa(v1))\n",
    "print(\"Długość wektora v2: \", dlugosc_euklidesowa(v2))"
   ]
  },
  {
   "cell_type": "markdown",
   "id": "2c83ef98",
   "metadata": {},
   "source": [
    "Długość wektorów v1 i v2"
   ]
  },
  {
   "cell_type": "code",
   "execution_count": 7,
   "id": "0931ee49",
   "metadata": {},
   "outputs": [],
   "source": [
    "def random_50():\n",
    "    v = []\n",
    "    random.seed(50)\n",
    "    for i in range(50):\n",
    "        v.append(random.randint(1, 100))\n",
    "\n",
    "    return v\n",
    "\n",
    "\n",
    "random_vector = random_50()"
   ]
  },
  {
   "cell_type": "markdown",
   "id": "939d7106",
   "metadata": {},
   "source": [
    "Generujemy wektor z 50 losowych liczb z zakresu 1-100"
   ]
  },
  {
   "cell_type": "code",
   "execution_count": 8,
   "id": "6f516232",
   "metadata": {},
   "outputs": [
    {
     "name": "stdout",
     "output_type": "stream",
     "text": [
      "Average =  50.1\n",
      "Max =  99\n",
      "Min =  1\n",
      "Odchylenie standardowe =  27.076373464701657\n"
     ]
    }
   ],
   "source": [
    "def vector_stats(v):\n",
    "    v_mean = sum(v) / len(v)\n",
    "    v_max = max(v)\n",
    "    v_min = min(v)\n",
    "\n",
    "    sum1 = 0\n",
    "    for i in range(len(v)):\n",
    "        sum1 += (v[i] - v_mean) ** 2\n",
    "\n",
    "    v_stdev = math.sqrt(sum1 / len(v))\n",
    "\n",
    "    print(\"Average = \", v_mean)\n",
    "    print(\"Max = \", v_max)\n",
    "    print(\"Min = \", v_min)\n",
    "    print(\"Odchylenie standardowe = \", v_stdev)\n",
    "\n",
    "vector_stats(random_vector)"
   ]
  },
  {
   "cell_type": "markdown",
   "id": "fed90483",
   "metadata": {},
   "source": [
    "Obliczamy średnią, min, max i odchylenie stamdardowe wektora."
   ]
  },
  {
   "cell_type": "code",
   "execution_count": 9,
   "id": "02029263",
   "metadata": {},
   "outputs": [
    {
     "name": "stdout",
     "output_type": "stream",
     "text": [
      "Old max:  99\n",
      "New max:  1.0\n"
     ]
    }
   ],
   "source": [
    "def normalize(v):\n",
    "    v_max = max(v)\n",
    "    v_min = min(v)\n",
    "    normalized = []\n",
    "    print(\"Old max: \", v_max)\n",
    "\n",
    "    for x in v:\n",
    "        z = (x - v_min) / (v_max - v_min)\n",
    "        normalized.append(z)\n",
    "\n",
    "    print(\"New max: \", max(normalized))\n",
    "    return normalized\n",
    "\n",
    "\n",
    "normalized = normalize(random_vector);"
   ]
  },
  {
   "cell_type": "markdown",
   "id": "ae10c444",
   "metadata": {},
   "source": [
    "Normalizujemy wektor"
   ]
  },
  {
   "cell_type": "code",
   "execution_count": 10,
   "id": "59378424",
   "metadata": {},
   "outputs": [
    {
     "name": "stdout",
     "output_type": "stream",
     "text": [
      "Stara średnia:  50.1\n",
      "Stare odchylenie standardowe:  27.35126755261434\n",
      "Nowa średnia:  -7.105427357601002e-17\n",
      "Nowa odchylenie standardowe:  0.9999999999999999\n"
     ]
    }
   ],
   "source": [
    "def standarize(v):\n",
    "    v_mean = sum(v) / len(v)\n",
    "    v_stdev = statistics.stdev(v)\n",
    "    standarized = []\n",
    "    print(\"Stara średnia: \", v_mean)\n",
    "    print(\"Stare odchylenie standardowe: \", v_stdev)\n",
    "\n",
    "    for x in v:\n",
    "        z = (x - v_mean) / v_stdev\n",
    "        standarized.append(z)\n",
    "\n",
    "    new_mean = sum(standarized) / len(standarized)\n",
    "    new_stdev = statistics.stdev(standarized)\n",
    "    print(\"Nowa średnia: \", new_mean)\n",
    "    print(\"Nowa odchylenie standardowe: \", new_stdev)\n",
    "\n",
    "    return standarized\n",
    "\n",
    "\n",
    "standarized = standarize(random_vector)"
   ]
  },
  {
   "cell_type": "markdown",
   "id": "96ec7286",
   "metadata": {},
   "source": [
    "Standarysujemy wektor"
   ]
  },
  {
   "cell_type": "code",
   "execution_count": 11,
   "id": "9f717a3c",
   "metadata": {},
   "outputs": [],
   "source": [
    "def przedzial(x):\n",
    "    if x < 10:\n",
    "        return \"[0, 10)\"\n",
    "    elif x < 20:\n",
    "        return \"[10, 20)\"\n",
    "    elif x < 30:\n",
    "        return \"[20, 30)\"\n",
    "    elif x < 30:\n",
    "        return \"[30, 40)\"\n",
    "    elif x < 50:\n",
    "        return \"[40, 50)\"\n",
    "    elif x < 60:\n",
    "        return \"[50, 60)\"\n",
    "    elif x < 70:\n",
    "        return \"[60, 70)\"\n",
    "    elif x < 80:\n",
    "        return \"[70, 80)\"\n",
    "    elif x < 80:\n",
    "        return \"[80, 90)\"\n",
    "    else:\n",
    "        return \"[90, 100]\""
   ]
  },
  {
   "cell_type": "markdown",
   "id": "298541a7",
   "metadata": {},
   "source": [
    "Aby dokonać dyskretyzacji wektora, najpierw potrzebujemy funkcji zwracającej przedział liczby w formie napisu. "
   ]
  },
  {
   "cell_type": "code",
   "execution_count": 13,
   "id": "eb834a8d",
   "metadata": {},
   "outputs": [
    {
     "name": "stdout",
     "output_type": "stream",
     "text": [
      "Nowy wektor po dyskredytacji:  ['[60, 70)', '[40, 50)', '[40, 50)', '[90, 100]', '[40, 50)', '[90, 100]', '[60, 70)', '[90, 100]', '[40, 50)', '[10, 20)', '[60, 70)', '[40, 50)', '[20, 30)', '[90, 100]', '[70, 80)', '[10, 20)', '[20, 30)', '[40, 50)', '[10, 20)', '[40, 50)', '[40, 50)', '[20, 30)', '[20, 30)', '[0, 10)', '[40, 50)', '[70, 80)', '[70, 80)', '[50, 60)', '[90, 100]', '[10, 20)', '[0, 10)', '[90, 100]', '[70, 80)', '[40, 50)', '[90, 100]', '[90, 100]', '[50, 60)', '[0, 10)', '[40, 50)', '[40, 50)', '[40, 50)', '[50, 60)', '[90, 100]', '[10, 20)', '[20, 30)', '[50, 60)', '[40, 50)', '[90, 100]', '[70, 80)', '[50, 60)']\n"
     ]
    }
   ],
   "source": [
    "def discrete(v):\n",
    "    discreted = []\n",
    "    for x in v:\n",
    "        discreted.append(przedzial(x))\n",
    "\n",
    "    print(\"Nowy wektor po dyskredytacji: \", discreted)\n",
    "    return discreted\n",
    "\n",
    "\n",
    "discredited = discredit(random_vector)"
   ]
  },
  {
   "cell_type": "markdown",
   "id": "c8d7a27c",
   "metadata": {},
   "source": [
    "Następnie dyskretyzujemy wektor."
   ]
  }
 ],
 "metadata": {
  "kernelspec": {
   "display_name": "Python 3",
   "language": "python",
   "name": "python3"
  },
  "language_info": {
   "codemirror_mode": {
    "name": "ipython",
    "version": 3
   },
   "file_extension": ".py",
   "mimetype": "text/x-python",
   "name": "python",
   "nbconvert_exporter": "python",
   "pygments_lexer": "ipython3",
   "version": "3.6.8"
  }
 },
 "nbformat": 4,
 "nbformat_minor": 5
}
